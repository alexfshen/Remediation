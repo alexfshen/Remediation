{
 "cells": [
  {
   "cell_type": "markdown",
   "id": "a5c2390e-ae9f-47d7-ba1b-5f6e0089bec8",
   "metadata": {},
   "source": [
    "# Remediation data structures  "
   ]
  },
  {
   "cell_type": "markdown",
   "id": "5d94fe28-8739-48f2-8f5c-f50179d1d922",
   "metadata": {},
   "source": [
    "## Quelques tips sur jupyter lab / jupyter notebook"
   ]
  },
  {
   "cell_type": "markdown",
   "id": "790b01b6-fc54-45a6-95cd-23c88ac6b7d6",
   "metadata": {},
   "source": [
    "- Deux modes \"d'intéraction\" avec le notebook : mode commande (touche esc) et le mode édition (enter)\n",
    "- Deux modes de cellule --> code et markdown (pour commenter)\n",
    "- Exécuter une cellule --> ctrl + entrée (ou shift + entrée)\n",
    "- Afficher la palette de commande (ctrl + shift + C)"
   ]
  },
  {
   "cell_type": "markdown",
   "id": "b989194e-a7b6-44e6-be61-d8b048ba312d",
   "metadata": {},
   "source": [
    "## Data structure"
   ]
  },
  {
   "cell_type": "markdown",
   "id": "b8ea3903-ebee-4f0d-8203-8f654dcb56b9",
   "metadata": {},
   "source": [
    "Quatre types de base : Liste, Tuples, Dictionnaires, Set"
   ]
  },
  {
   "cell_type": "markdown",
   "id": "814615c0-12f1-4bb1-ad5d-d5a5154d41a1",
   "metadata": {
    "jp-MarkdownHeadingCollapsed": true
   },
   "source": [
    "### Listes\n",
    "List slicing : https://www.learnbyexample.org/python-list-slicing/"
   ]
  },
  {
   "cell_type": "code",
   "execution_count": 5,
   "id": "c20d43e4-2221-4b03-ab4f-18fa652b1647",
   "metadata": {},
   "outputs": [
    {
     "data": {
      "text/plain": [
       "[1, 2, 4, 8.9, 'r', True, 'abc']"
      ]
     },
     "execution_count": 5,
     "metadata": {},
     "output_type": "execute_result"
    }
   ],
   "source": [
    "# Une liste peut contnir des types différents\n",
    "arr = [1, 2, 4, 8.9, 'r', True, 'abc']\n",
    "arr"
   ]
  },
  {
   "cell_type": "code",
   "execution_count": 35,
   "id": "6a203b50-e59d-450d-923a-c496df005f89",
   "metadata": {},
   "outputs": [
    {
     "data": {
      "text/plain": [
       "1"
      ]
     },
     "execution_count": 35,
     "metadata": {},
     "output_type": "execute_result"
    }
   ],
   "source": [
    "# Accéder à un indice de la liste\n",
    "arr[0]"
   ]
  },
  {
   "cell_type": "code",
   "execution_count": 36,
   "id": "0e305342-5ad6-4b40-9303-c54d4fcd5bab",
   "metadata": {},
   "outputs": [
    {
     "data": {
      "text/plain": [
       "[49, 2, 4, 8.9, 'r', True, 'abc']"
      ]
     },
     "execution_count": 36,
     "metadata": {},
     "output_type": "execute_result"
    }
   ],
   "source": [
    "# Modifier un élément de la liste\n",
    "arr[0] = 49\n",
    "arr"
   ]
  },
  {
   "cell_type": "code",
   "execution_count": 8,
   "id": "e421b25b-e798-4220-919d-3d7938c1077d",
   "metadata": {},
   "outputs": [
    {
     "data": {
      "text/plain": [
       "[1, 2, 4]"
      ]
     },
     "execution_count": 8,
     "metadata": {},
     "output_type": "execute_result"
    }
   ],
   "source": [
    "# Récupérer les 3 premiers éléments de la liste\n",
    "arr[0:3]"
   ]
  },
  {
   "cell_type": "code",
   "execution_count": 12,
   "id": "e9ed0fe7-7be0-48be-a492-c96f229bc32a",
   "metadata": {},
   "outputs": [
    {
     "data": {
      "text/plain": [
       "[1, 2, 4]"
      ]
     },
     "execution_count": 12,
     "metadata": {},
     "output_type": "execute_result"
    }
   ],
   "source": [
    "# Récupérer les 3 premiers éléments de la liste\n",
    "# Notation simplifiée\n",
    "arr[:3]"
   ]
  },
  {
   "cell_type": "code",
   "execution_count": 9,
   "id": "00208045-aeac-4853-99e4-ae0c79bb539c",
   "metadata": {},
   "outputs": [
    {
     "data": {
      "text/plain": [
       "'abc'"
      ]
     },
     "execution_count": 9,
     "metadata": {},
     "output_type": "execute_result"
    }
   ],
   "source": [
    "# Accéder au dernier élément\n",
    "arr[-1]"
   ]
  },
  {
   "cell_type": "code",
   "execution_count": 11,
   "id": "0b91a901-7f7f-4258-bdf9-35bd0e42a035",
   "metadata": {},
   "outputs": [
    {
     "data": {
      "text/plain": [
       "[True, 'abc']"
      ]
     },
     "execution_count": 11,
     "metadata": {},
     "output_type": "execute_result"
    }
   ],
   "source": [
    "# Accéder aux deux derniers éléments\n",
    "arr[-2:]"
   ]
  },
  {
   "cell_type": "code",
   "execution_count": 14,
   "id": "a86ad717-ba46-4a49-aa21-a6d54aaa6878",
   "metadata": {},
   "outputs": [
    {
     "data": {
      "text/plain": [
       "[8.9, 'r', True, 'abc']"
      ]
     },
     "execution_count": 14,
     "metadata": {},
     "output_type": "execute_result"
    }
   ],
   "source": [
    "# Accéder à éléments à partir du 3eme jusqu'à la fin\n",
    "arr[3:]"
   ]
  },
  {
   "cell_type": "code",
   "execution_count": 16,
   "id": "dd897860-4cf7-416a-a83f-233c692b75e6",
   "metadata": {},
   "outputs": [
    {
     "data": {
      "text/plain": [
       "[1, 4, 'r', 'abc']"
      ]
     },
     "execution_count": 16,
     "metadata": {},
     "output_type": "execute_result"
    }
   ],
   "source": [
    "# Prendre un élément sur deux\n",
    "arr[::2]"
   ]
  },
  {
   "cell_type": "code",
   "execution_count": 19,
   "id": "761dbe7e-e744-4386-a3e7-0a5ca3b7a09b",
   "metadata": {},
   "outputs": [
    {
     "data": {
      "text/plain": [
       "['abc', True, 'r', 8.9, 4, 2, 1]"
      ]
     },
     "execution_count": 19,
     "metadata": {},
     "output_type": "execute_result"
    }
   ],
   "source": [
    "# Inverser la liste\n",
    "arr[::-1]"
   ]
  },
  {
   "cell_type": "code",
   "execution_count": 26,
   "id": "a5ffcd06-54bc-4104-9939-810ea0bc0210",
   "metadata": {},
   "outputs": [
    {
     "data": {
      "text/plain": [
       "2"
      ]
     },
     "execution_count": 26,
     "metadata": {},
     "output_type": "execute_result"
    }
   ],
   "source": [
    "# Exemple de liste de listes\n",
    "arr2D = [ [1,2], ['a', 'b'], [True, False] ]\n",
    "arr2D[0][1]"
   ]
  },
  {
   "cell_type": "code",
   "execution_count": 28,
   "id": "05a6dfaa-efb1-434a-909a-5042e0c6332d",
   "metadata": {},
   "outputs": [
    {
     "data": {
      "text/plain": [
       "['a', 'b', 'c', 'd', 'e', 'f', 'g', 'h', 'i', 'j', 'k']"
      ]
     },
     "execution_count": 28,
     "metadata": {},
     "output_type": "execute_result"
    }
   ],
   "source": [
    "# Création de listes rapides (trick)\n",
    "alphabet = list('abcdefghijk')\n",
    "alphabet"
   ]
  },
  {
   "cell_type": "code",
   "execution_count": 33,
   "id": "94915898-66b3-44c6-a601-883f71c0a330",
   "metadata": {},
   "outputs": [
    {
     "data": {
      "text/plain": [
       "[0, 1, 2, 3, 4, 5, 6, 7, 8, 9]"
      ]
     },
     "execution_count": 33,
     "metadata": {},
     "output_type": "execute_result"
    }
   ],
   "source": [
    "# Idem pour créer une liste de nombres\n",
    "nombres = list( range(10) )\n",
    "nombres"
   ]
  },
  {
   "cell_type": "markdown",
   "id": "d3b165c2-4c07-4bb5-adf1-ebd694a66e46",
   "metadata": {
    "jp-MarkdownHeadingCollapsed": true
   },
   "source": [
    "### Tuples"
   ]
  },
  {
   "cell_type": "code",
   "execution_count": 34,
   "id": "92ab2e67-a26a-4581-ab55-47b8b9b3dd4a",
   "metadata": {},
   "outputs": [
    {
     "data": {
      "text/plain": [
       "(1, 2, 4)"
      ]
     },
     "execution_count": 34,
     "metadata": {},
     "output_type": "execute_result"
    }
   ],
   "source": [
    "# Exemple de tuple\n",
    "t = (1, 2, 4)\n",
    "t"
   ]
  },
  {
   "cell_type": "code",
   "execution_count": 39,
   "id": "80efbe6a-5def-4e54-a083-0dd132da5e40",
   "metadata": {},
   "outputs": [
    {
     "data": {
      "text/plain": [
       "1"
      ]
     },
     "execution_count": 39,
     "metadata": {},
     "output_type": "execute_result"
    }
   ],
   "source": [
    "# Accéder à un élément\n",
    "t[0] "
   ]
  },
  {
   "cell_type": "code",
   "execution_count": 40,
   "id": "fe2f516c-8e6e-45ad-ace5-af02faf12d97",
   "metadata": {},
   "outputs": [
    {
     "ename": "TypeError",
     "evalue": "'tuple' object does not support item assignment",
     "output_type": "error",
     "traceback": [
      "\u001b[0;31m---------------------------------------------------------------------------\u001b[0m",
      "\u001b[0;31mTypeError\u001b[0m                                 Traceback (most recent call last)",
      "Cell \u001b[0;32mIn[40], line 2\u001b[0m\n\u001b[1;32m      1\u001b[0m \u001b[38;5;66;03m# Modification interdite des éléments d'un tuple\u001b[39;00m\n\u001b[0;32m----> 2\u001b[0m t[\u001b[38;5;241m0\u001b[39m] \u001b[38;5;241m=\u001b[39m \u001b[38;5;241m7\u001b[39m\n",
      "\u001b[0;31mTypeError\u001b[0m: 'tuple' object does not support item assignment"
     ]
    }
   ],
   "source": [
    "# Modification interdite des éléments d'un tuple\n",
    "t[0] = 7"
   ]
  },
  {
   "cell_type": "code",
   "execution_count": 41,
   "id": "38da8010-8254-4c8c-8232-8cbe39e45057",
   "metadata": {},
   "outputs": [
    {
     "data": {
      "text/plain": [
       "[1, 2, 4]"
      ]
     },
     "execution_count": 41,
     "metadata": {},
     "output_type": "execute_result"
    }
   ],
   "source": [
    "# Transformer un tuple en liste\n",
    "list(t)"
   ]
  },
  {
   "cell_type": "code",
   "execution_count": null,
   "id": "69293659-2c2d-4cf3-85fc-e44cf511f5e0",
   "metadata": {},
   "outputs": [
    {
     "ename": "",
     "evalue": "",
     "output_type": "error",
     "traceback": [
      "\u001b[1;31mRunning cells with 'ollama (Python 3.12.3)' requires the ipykernel package.\n",
      "\u001b[1;31mRun the following command to install 'ipykernel' into the Python environment. \n",
      "\u001b[1;31mCommand: 'conda install -n ollama ipykernel --update-deps --force-reinstall'"
     ]
    }
   ],
   "source": [
    "# Destructuration\n",
    "prenom, nom = (\"Florian\", \"Dadouchi\")\n",
    "\n",
    "prenom"
   ]
  },
  {
   "cell_type": "code",
   "execution_count": null,
   "id": "b9e32c08-302e-40a2-88cf-9221348c3734",
   "metadata": {},
   "outputs": [
    {
     "ename": "",
     "evalue": "",
     "output_type": "error",
     "traceback": [
      "\u001b[1;31mRunning cells with 'ollama (Python 3.12.3)' requires the ipykernel package.\n",
      "\u001b[1;31mRun the following command to install 'ipykernel' into the Python environment. \n",
      "\u001b[1;31mCommand: 'conda install -n ollama ipykernel --update-deps --force-reinstall'"
     ]
    }
   ],
   "source": [
    "# Comment retourner plusieurs informations depuis une fonction\n",
    "# (Mauvais) Exemple avec une concaténation de strings\n",
    "def my_super_function():\n",
    "    prenom = 'florian'\n",
    "    nom = 'dadouchi'\n",
    "    nom_complet = prenom + ' ' + nom \n",
    "    return nom_complet\n",
    "\n",
    "nom_complet = my_super_function()\n",
    "nom_complet"
   ]
  },
  {
   "cell_type": "code",
   "execution_count": 61,
   "id": "1887f518-9c1d-47ce-93e7-34f8ab058968",
   "metadata": {},
   "outputs": [
    {
     "name": "stdout",
     "output_type": "stream",
     "text": [
      "['florian', 'dadouchi']\n",
      "florian\n",
      "dadouchi\n"
     ]
    }
   ],
   "source": [
    "# Return a list\n",
    "def my_super_function():\n",
    "    prenom = 'florian'\n",
    "    nom = 'dadouchi'\n",
    "    nom_complet = [prenom, nom] \n",
    "    return nom_complet\n",
    "\n",
    "nom_complet = my_super_function()\n",
    "print(nom_complet)\n",
    "print(nom_complet[0])\n",
    "print(nom_complet[1])"
   ]
  },
  {
   "cell_type": "code",
   "execution_count": 65,
   "id": "4aad8b74-fe32-4a00-8ebe-e7732711c4b1",
   "metadata": {},
   "outputs": [
    {
     "name": "stdout",
     "output_type": "stream",
     "text": [
      "florian\n",
      "dadouchi\n"
     ]
    }
   ],
   "source": [
    "# Return a tuple\n",
    "# Super pratique !\n",
    "def my_super_function():\n",
    "    prenom = 'florian'\n",
    "    nom = 'dadouchi'\n",
    "    return prenom, nom\n",
    "\n",
    "firstname, lastname = my_super_function()\n",
    "print(firstname)\n",
    "print(lastname)"
   ]
  },
  {
   "cell_type": "markdown",
   "id": "fc92dde9-049c-4956-af0e-8b340ba549b4",
   "metadata": {},
   "source": [
    "### Dict"
   ]
  },
  {
   "cell_type": "code",
   "execution_count": 68,
   "id": "ab8c465a-13cd-4082-946c-0d6531cf5c53",
   "metadata": {},
   "outputs": [
    {
     "data": {
      "text/plain": [
       "{'pomme': 2, 'poire': 3}"
      ]
     },
     "execution_count": 68,
     "metadata": {},
     "output_type": "execute_result"
    }
   ],
   "source": [
    "# Définition\n",
    "dico = {'pomme': 2, 'poire':3}\n",
    "dico"
   ]
  },
  {
   "cell_type": "code",
   "execution_count": 69,
   "id": "fa0cb2d5-3374-46be-ad23-29c6b7ac5b2e",
   "metadata": {},
   "outputs": [
    {
     "data": {
      "text/plain": [
       "2"
      ]
     },
     "execution_count": 69,
     "metadata": {},
     "output_type": "execute_result"
    }
   ],
   "source": [
    "# Accéder aux éléments\n",
    "dico['pomme']"
   ]
  },
  {
   "cell_type": "code",
   "execution_count": 71,
   "id": "4c41f0d6-615e-41b6-9663-db4d5a8b7493",
   "metadata": {},
   "outputs": [
    {
     "ename": "KeyError",
     "evalue": "0",
     "output_type": "error",
     "traceback": [
      "\u001b[0;31m---------------------------------------------------------------------------\u001b[0m",
      "\u001b[0;31mKeyError\u001b[0m                                  Traceback (most recent call last)",
      "Cell \u001b[0;32mIn[71], line 2\u001b[0m\n\u001b[1;32m      1\u001b[0m \u001b[38;5;66;03m# Pas d'ordre dans les éléments\u001b[39;00m\n\u001b[0;32m----> 2\u001b[0m dico[\u001b[38;5;241m0\u001b[39m]\n",
      "\u001b[0;31mKeyError\u001b[0m: 0"
     ]
    }
   ],
   "source": [
    "# Pas d'ordre dans les éléments\n",
    "dico[0]"
   ]
  },
  {
   "cell_type": "code",
   "execution_count": 72,
   "id": "15d7d97b-b021-419c-9438-d7795754079f",
   "metadata": {},
   "outputs": [
    {
     "data": {
      "text/plain": [
       "{'pomme': 80, 'poire': 3}"
      ]
     },
     "execution_count": 72,
     "metadata": {},
     "output_type": "execute_result"
    }
   ],
   "source": [
    "# Mettre à jour la valeur associée à une clé\n",
    "dico['pomme'] = 80\n",
    "dico"
   ]
  },
  {
   "cell_type": "code",
   "execution_count": 73,
   "id": "63b403d2-159e-49fe-871c-68ed09aba0a1",
   "metadata": {},
   "outputs": [
    {
     "data": {
      "text/plain": [
       "dict_keys(['pomme', 'poire'])"
      ]
     },
     "execution_count": 73,
     "metadata": {},
     "output_type": "execute_result"
    }
   ],
   "source": [
    "# Récupérer les clés de ce dictionnaire\n",
    "dico.keys()"
   ]
  },
  {
   "cell_type": "code",
   "execution_count": 74,
   "id": "48500901-fc18-4d43-97c6-91bfb955d3ae",
   "metadata": {},
   "outputs": [
    {
     "data": {
      "text/plain": [
       "dict_values([80, 3])"
      ]
     },
     "execution_count": 74,
     "metadata": {},
     "output_type": "execute_result"
    }
   ],
   "source": [
    "# Récupérer les valeurs de ce dictionnaire\n",
    "dico.values()"
   ]
  },
  {
   "cell_type": "code",
   "execution_count": 79,
   "id": "d5c0493d-7444-497a-a51e-85d253f674eb",
   "metadata": {},
   "outputs": [
    {
     "data": {
      "text/plain": [
       "dict_items([('pomme', 80), ('poire', 3)])"
      ]
     },
     "execution_count": 79,
     "metadata": {},
     "output_type": "execute_result"
    }
   ],
   "source": [
    "# Récupérer les couples clé / valeur de ce dictionnaire\n",
    "dico.items()"
   ]
  },
  {
   "cell_type": "code",
   "execution_count": 82,
   "id": "789a7e16-c7d4-4e59-8283-7fd7bc7bf23e",
   "metadata": {},
   "outputs": [
    {
     "name": "stdout",
     "output_type": "stream",
     "text": [
      "pomme 80\n",
      "poire 3\n"
     ]
    }
   ],
   "source": [
    "# Itérer sur un dictionnaire en utilisant les keys\n",
    "for key in dico.keys():\n",
    "    print(key, dico[key])"
   ]
  },
  {
   "cell_type": "code",
   "execution_count": 84,
   "id": "e1a8bac0-f8a5-49b9-a6e5-90b0ddd3f3fe",
   "metadata": {},
   "outputs": [
    {
     "name": "stdout",
     "output_type": "stream",
     "text": [
      "80\n",
      "3\n"
     ]
    }
   ],
   "source": [
    "# Itérer sur un dictionnaire en utilisant les values\n",
    "for value in dico.values():\n",
    "    print(value)"
   ]
  },
  {
   "cell_type": "code",
   "execution_count": 87,
   "id": "ae0ad84c-a4c9-43c4-86b3-3a198c6f7e33",
   "metadata": {},
   "outputs": [
    {
     "data": {
      "text/plain": [
       "[['pomme', 80], ['poire', 3]]"
      ]
     },
     "execution_count": 87,
     "metadata": {},
     "output_type": "execute_result"
    }
   ],
   "source": [
    "# Itérer sur un dictionnaire en utilisant les \"items\"\n",
    "items = []\n",
    "for key, val in dico.items():\n",
    "    items.append( [key, val] )\n",
    "\n",
    "items"
   ]
  },
  {
   "cell_type": "code",
   "execution_count": 89,
   "id": "c314c79f-eac7-424f-b2ac-4acb6079cafb",
   "metadata": {},
   "outputs": [
    {
     "data": {
      "text/plain": [
       "[('pomme', 80), ('poire', 3)]"
      ]
     },
     "execution_count": 89,
     "metadata": {},
     "output_type": "execute_result"
    }
   ],
   "source": [
    "# Qu'est ce qu'il y a dans les items ? \n",
    "list(dico.items())"
   ]
  },
  {
   "cell_type": "code",
   "execution_count": 100,
   "id": "28038ce0-5176-418a-86a3-a9f1148b066e",
   "metadata": {},
   "outputs": [],
   "source": [
    "# Un exemple un peu plus complexe\n",
    "utilisateurs = [\n",
    "    { 'id': 0, 'name': 'Florian', 'langues': ['Français', 'Portugais'] },\n",
    "    { 'id': 1, 'name': 'Malik'  , 'langues': ['Français', 'Arabe']     },\n",
    "    { 'id': 2, 'name': 'Rama'   , 'langues': ['Français', 'Wolof']     },\n",
    "    { 'id': 3, 'name': 'Linda'  , 'langues': ['Français', 'Ouzbek']    },\n",
    "]"
   ]
  },
  {
   "cell_type": "code",
   "execution_count": 105,
   "id": "0269bc39-7279-4aca-a53e-769aa8e3a26d",
   "metadata": {},
   "outputs": [
    {
     "name": "stdout",
     "output_type": "stream",
     "text": [
      "Florian : Langues parlées ['Français', 'Portugais']\n",
      "Malik : Langues parlées ['Français', 'Arabe']\n",
      "Rama : Langues parlées ['Français', 'Wolof']\n",
      "Linda : Langues parlées ['Français', 'Ouzbek']\n"
     ]
    }
   ],
   "source": [
    "# C'est pratique de pouvoir écrire des choses comme user['name'], \n",
    "# ça rend le code plus lisible\n",
    "for user in utilisateurs:\n",
    "    print(user['name'], ': Langues parlées', user['langues'] )"
   ]
  },
  {
   "cell_type": "code",
   "execution_count": 110,
   "id": "c32f18ca-19ec-48da-891a-ebb5c1b4e347",
   "metadata": {},
   "outputs": [
    {
     "ename": "TypeError",
     "evalue": "unhashable type: 'list'",
     "output_type": "error",
     "traceback": [
      "\u001b[0;31m---------------------------------------------------------------------------\u001b[0m",
      "\u001b[0;31mTypeError\u001b[0m                                 Traceback (most recent call last)",
      "Cell \u001b[0;32mIn[110], line 1\u001b[0m\n\u001b[0;32m----> 1\u001b[0m dico_rate \u001b[38;5;241m=\u001b[39m { \n\u001b[1;32m      2\u001b[0m     \u001b[38;5;28;01mTrue\u001b[39;00m: \u001b[38;5;124m'\u001b[39m\u001b[38;5;124mbonjour\u001b[39m\u001b[38;5;124m'\u001b[39m, \n\u001b[1;32m      3\u001b[0m     (\u001b[38;5;124m'\u001b[39m\u001b[38;5;124mFlorian\u001b[39m\u001b[38;5;124m'\u001b[39m, \u001b[38;5;124m'\u001b[39m\u001b[38;5;124mDadouchi\u001b[39m\u001b[38;5;124m'\u001b[39m): \u001b[38;5;124m'\u001b[39m\u001b[38;5;124mOK\u001b[39m\u001b[38;5;124m'\u001b[39m, \n\u001b[1;32m      4\u001b[0m     [\u001b[38;5;241m1\u001b[39m, \u001b[38;5;241m2\u001b[39m] : \u001b[38;5;28;01mFalse\u001b[39;00m \n\u001b[1;32m      5\u001b[0m }\n\u001b[1;32m      7\u001b[0m dico_rate[ [\u001b[38;5;241m1\u001b[39m, \u001b[38;5;241m2\u001b[39m] ]\n",
      "\u001b[0;31mTypeError\u001b[0m: unhashable type: 'list'"
     ]
    }
   ],
   "source": [
    "dico_rate = { \n",
    "    'a' : 0,\n",
    "    [1, 2] : 'Pas ok --> ça ne va pas marcher (unhashable type: list)' \n",
    "}\n"
   ]
  },
  {
   "cell_type": "code",
   "execution_count": 109,
   "id": "c285f35c-37ee-4c15-8861-64621e735bca",
   "metadata": {},
   "outputs": [
    {
     "data": {
      "text/plain": [
       "'OK'"
      ]
     },
     "execution_count": 109,
     "metadata": {},
     "output_type": "execute_result"
    }
   ],
   "source": [
    "dico_rate = { \n",
    "    'a' : 0,\n",
    "    ('Florian', 'Dadouchi') : 'OK'\n",
    "}\n",
    "\n",
    "\n",
    "dico_rate[ ('Florian', 'Dadouchi') ]"
   ]
  },
  {
   "cell_type": "markdown",
   "id": "ce6bcecf-49a3-421e-b1b9-8516606a30ab",
   "metadata": {},
   "source": [
    "### Set"
   ]
  },
  {
   "cell_type": "code",
   "execution_count": 115,
   "id": "089b823d-a677-4684-b51f-d387b40ad606",
   "metadata": {},
   "outputs": [
    {
     "data": {
      "text/plain": [
       "{0, 1, 3, 5, 6, 7, 9}"
      ]
     },
     "execution_count": 115,
     "metadata": {},
     "output_type": "execute_result"
    }
   ],
   "source": [
    "# Le set ne garde que les éléments uniques (par définition d'un set)\n",
    "arr_duplicates = [1, 3, 6, 0, 0, 0, 5, 7, 6, 6, 9]\n",
    "elements_uniques = set(arr_duplicates)\n",
    "elements_uniques"
   ]
  },
  {
   "cell_type": "code",
   "execution_count": 116,
   "id": "ef6c171c-b9c8-488c-8206-d267be549d97",
   "metadata": {},
   "outputs": [],
   "source": [
    "# Je peux rajouter un élément\n",
    "elements_uniques.add(2)\n",
    "elements_uniques"
   ]
  },
  {
   "cell_type": "code",
   "execution_count": 118,
   "id": "3f52a078-c929-48ec-9607-97162b68cd2d",
   "metadata": {},
   "outputs": [
    {
     "data": {
      "text/plain": [
       "{0, 1, 2, 3, 5, 6, 7, 9}"
      ]
     },
     "execution_count": 118,
     "metadata": {},
     "output_type": "execute_result"
    }
   ],
   "source": [
    "# Mais si l'élément est déjà présent, ça ne fait pas de doublon\n",
    "elements_uniques.add(9)\n",
    "elements_uniques"
   ]
  },
  {
   "cell_type": "code",
   "execution_count": 3,
   "id": "895ae306-0d1d-467e-bff6-99fde45b2dd1",
   "metadata": {},
   "outputs": [
    {
     "data": {
      "text/plain": [
       "{'bonjour': 1, 'plouf': 3, 'test': 2}"
      ]
     },
     "execution_count": 3,
     "metadata": {},
     "output_type": "execute_result"
    }
   ],
   "source": [
    "# Exemple en utilisant un set pour compter le nombre de doublons dans une liste\n",
    "dico_doublons = dict()\n",
    "arr_duplicates = ['test', 'plouf', 'plouf', 'bonjour', 'test', 'plouf']\n",
    "elements_uniques = set(arr_duplicates)\n",
    "\n",
    "for elt in elements_uniques:\n",
    "    nbre_doublons = arr_duplicates.count(elt)\n",
    "    dico_doublons[elt] = nbre_doublons\n",
    " \n",
    "dico_doublons"
   ]
  },
  {
   "cell_type": "markdown",
   "id": "3b736d1c-3ace-4060-91fa-3b7e147a2215",
   "metadata": {},
   "source": [
    "### Fonctions"
   ]
  },
  {
   "cell_type": "code",
   "execution_count": 12,
   "id": "84472702-7559-4a25-96c5-574c3d6171e2",
   "metadata": {},
   "outputs": [
    {
     "data": {
      "text/plain": [
       "{'id': 1, 'name': 'Test', 'langues': None}"
      ]
     },
     "execution_count": 12,
     "metadata": {},
     "output_type": "execute_result"
    }
   ],
   "source": [
    "# Fonction to create a user (type : dict) \n",
    "# Illustration de l'utilisation d'argument positionnels et d'argument optionnels 'keywords'\n",
    "def create_user(id, name=\"John Doe\", langues=None):\n",
    "    user = {\n",
    "        'id' : id,\n",
    "        'name' : name,\n",
    "        'langues' : langues\n",
    "    }\n",
    "    return user\n",
    "\n",
    "create_user(id=1, name='Test')\n"
   ]
  }
 ],
 "metadata": {
  "kernelspec": {
   "display_name": "Python 3 (ipykernel)",
   "language": "python",
   "name": "python3"
  },
  "language_info": {
   "codemirror_mode": {
    "name": "ipython",
    "version": 3
   },
   "file_extension": ".py",
   "mimetype": "text/x-python",
   "name": "python",
   "nbconvert_exporter": "python",
   "pygments_lexer": "ipython3",
   "version": "3.12.3"
  }
 },
 "nbformat": 4,
 "nbformat_minor": 5
}
