{
 "cells": [
  {
   "cell_type": "markdown",
   "metadata": {},
   "source": [
    "# Remediation"
   ]
  },
  {
   "cell_type": "markdown",
   "metadata": {},
   "source": [
    "## Fonctions en python (c'est pas du pandas)"
   ]
  },
  {
   "cell_type": "markdown",
   "metadata": {},
   "source": [
    "```python\n",
    "# Signature de la fonction = nom + parametre(s) d'entrée\n",
    "def nom_de_la_fonction(parametre1, parametre2, ...)\n",
    "    # Uilisation des paramètres + calculs\n",
    "    return resultat_du_calcul\n",
    "```"
   ]
  },
  {
   "cell_type": "code",
   "execution_count": 2,
   "metadata": {},
   "outputs": [],
   "source": [
    "def string_to_float( string ):\n",
    "    val = float(string)\n",
    "    return val"
   ]
  },
  {
   "cell_type": "markdown",
   "metadata": {},
   "source": [
    "Deux solutions pour appeler les fonctions qui ont des paramètres"
   ]
  },
  {
   "cell_type": "code",
   "execution_count": 3,
   "metadata": {},
   "outputs": [
    {
     "data": {
      "text/plain": [
       "100.8"
      ]
     },
     "execution_count": 3,
     "metadata": {},
     "output_type": "execute_result"
    }
   ],
   "source": [
    "# Solution 1 : on passe une valeur à la fonction\n",
    "float_transformed = string_to_float('100.8')\n",
    "float_transformed"
   ]
  },
  {
   "cell_type": "code",
   "execution_count": 4,
   "metadata": {},
   "outputs": [
    {
     "data": {
      "text/plain": [
       "100.8"
      ]
     },
     "execution_count": 4,
     "metadata": {},
     "output_type": "execute_result"
    }
   ],
   "source": [
    "# Solution 2 : \n",
    "s = '100.8' \n",
    "float_transformed2 = string_to_float( s )\n",
    "float_transformed2"
   ]
  },
  {
   "cell_type": "code",
   "execution_count": 5,
   "metadata": {},
   "outputs": [
    {
     "data": {
      "text/plain": [
       "13.2"
      ]
     },
     "execution_count": 5,
     "metadata": {},
     "output_type": "execute_result"
    }
   ],
   "source": [
    "# Solution 3 : \n",
    "s2 = '13.2'\n",
    "float_transformed3 = string_to_float( s2 ) \n",
    "float_transformed3"
   ]
  },
  {
   "cell_type": "markdown",
   "metadata": {},
   "source": [
    "## Solution pour virer les k "
   ]
  },
  {
   "cell_type": "code",
   "execution_count": 1,
   "metadata": {},
   "outputs": [],
   "source": [
    "import pandas as pd\n",
    "df_income = pd.read_csv('./data_gapminder/income.csv')\n",
    "df_income.head(3)"
   ]
  },
  {
   "cell_type": "code",
   "execution_count": 3,
   "metadata": {},
   "outputs": [
    {
     "data": {
      "text/html": [
       "<div>\n",
       "<style scoped>\n",
       "    .dataframe tbody tr th:only-of-type {\n",
       "        vertical-align: middle;\n",
       "    }\n",
       "\n",
       "    .dataframe tbody tr th {\n",
       "        vertical-align: top;\n",
       "    }\n",
       "\n",
       "    .dataframe thead th {\n",
       "        text-align: right;\n",
       "    }\n",
       "</style>\n",
       "<table border=\"1\" class=\"dataframe\">\n",
       "  <thead>\n",
       "    <tr style=\"text-align: right;\">\n",
       "      <th></th>\n",
       "      <th>country</th>\n",
       "      <th>1800</th>\n",
       "      <th>1801</th>\n",
       "      <th>1802</th>\n",
       "      <th>1803</th>\n",
       "      <th>1804</th>\n",
       "      <th>1805</th>\n",
       "      <th>1806</th>\n",
       "      <th>1807</th>\n",
       "      <th>1808</th>\n",
       "      <th>...</th>\n",
       "      <th>2041</th>\n",
       "      <th>2042</th>\n",
       "      <th>2043</th>\n",
       "      <th>2044</th>\n",
       "      <th>2045</th>\n",
       "      <th>2046</th>\n",
       "      <th>2047</th>\n",
       "      <th>2048</th>\n",
       "      <th>2049</th>\n",
       "      <th>2050</th>\n",
       "    </tr>\n",
       "  </thead>\n",
       "  <tbody>\n",
       "    <tr>\n",
       "      <th>0</th>\n",
       "      <td>Afghanistan</td>\n",
       "      <td>683</td>\n",
       "      <td>683</td>\n",
       "      <td>683</td>\n",
       "      <td>683</td>\n",
       "      <td>683</td>\n",
       "      <td>683</td>\n",
       "      <td>683</td>\n",
       "      <td>683</td>\n",
       "      <td>683</td>\n",
       "      <td>...</td>\n",
       "      <td>2690</td>\n",
       "      <td>2750</td>\n",
       "      <td>2810</td>\n",
       "      <td>2870</td>\n",
       "      <td>2930</td>\n",
       "      <td>2990</td>\n",
       "      <td>3060</td>\n",
       "      <td>3120</td>\n",
       "      <td>3190</td>\n",
       "      <td>3260</td>\n",
       "    </tr>\n",
       "    <tr>\n",
       "      <th>1</th>\n",
       "      <td>Angola</td>\n",
       "      <td>700</td>\n",
       "      <td>702</td>\n",
       "      <td>705</td>\n",
       "      <td>709</td>\n",
       "      <td>711</td>\n",
       "      <td>714</td>\n",
       "      <td>718</td>\n",
       "      <td>721</td>\n",
       "      <td>725</td>\n",
       "      <td>...</td>\n",
       "      <td>8000</td>\n",
       "      <td>8170</td>\n",
       "      <td>8350</td>\n",
       "      <td>8530</td>\n",
       "      <td>8710</td>\n",
       "      <td>8900</td>\n",
       "      <td>9090</td>\n",
       "      <td>9280</td>\n",
       "      <td>9480</td>\n",
       "      <td>9690</td>\n",
       "    </tr>\n",
       "    <tr>\n",
       "      <th>2</th>\n",
       "      <td>Albania</td>\n",
       "      <td>755</td>\n",
       "      <td>755</td>\n",
       "      <td>755</td>\n",
       "      <td>755</td>\n",
       "      <td>755</td>\n",
       "      <td>756</td>\n",
       "      <td>756</td>\n",
       "      <td>756</td>\n",
       "      <td>756</td>\n",
       "      <td>...</td>\n",
       "      <td>25.1k</td>\n",
       "      <td>25.6k</td>\n",
       "      <td>26.2k</td>\n",
       "      <td>26.7k</td>\n",
       "      <td>27.3k</td>\n",
       "      <td>27.9k</td>\n",
       "      <td>28.5k</td>\n",
       "      <td>29.1k</td>\n",
       "      <td>29.7k</td>\n",
       "      <td>30.4k</td>\n",
       "    </tr>\n",
       "  </tbody>\n",
       "</table>\n",
       "<p>3 rows × 252 columns</p>\n",
       "</div>"
      ],
      "text/plain": [
       "       country  1800  1801  1802  1803  1804  1805  1806  1807  1808  ...  \\\n",
       "0  Afghanistan   683   683   683   683   683   683   683   683   683  ...   \n",
       "1       Angola   700   702   705   709   711   714   718   721   725  ...   \n",
       "2      Albania   755   755   755   755   755   756   756   756   756  ...   \n",
       "\n",
       "    2041   2042   2043   2044   2045   2046   2047   2048   2049   2050  \n",
       "0   2690   2750   2810   2870   2930   2990   3060   3120   3190   3260  \n",
       "1   8000   8170   8350   8530   8710   8900   9090   9280   9480   9690  \n",
       "2  25.1k  25.6k  26.2k  26.7k  27.3k  27.9k  28.5k  29.1k  29.7k  30.4k  \n",
       "\n",
       "[3 rows x 252 columns]"
      ]
     },
     "execution_count": 3,
     "metadata": {},
     "output_type": "execute_result"
    }
   ],
   "source": []
  },
  {
   "cell_type": "code",
   "execution_count": 39,
   "metadata": {},
   "outputs": [
    {
     "name": "stdout",
     "output_type": "stream",
     "text": [
      "3409 --> 3409\n",
      "12k --> 12000\n",
      "12.4k --> 12400\n",
      "12 --> 12\n"
     ]
    }
   ],
   "source": [
    "# Cas problématiques : \n",
    "# Cas 1 :  3450 (string || float ) --> 3450 (float)\n",
    "# Cas 2 : 12k --> 12000\n",
    "# Cas 3 : 12.4k --> 12400\n",
    "\n",
    "\n",
    "# 12.4k --> 12.4 --> 12.4 --> 12400\n",
    "# s --> remove k in s --> tranform to float --> multiplier par 1000  -> return\n",
    "\n",
    "def string_to_float( s ):\n",
    "    if isinstance(s, int):\n",
    "        return s\n",
    "    \n",
    "    if 'k' not in s:\n",
    "        return int(s)\n",
    "    elif 'k' in s and '.' not in s:\n",
    "        s = s[:-1]\n",
    "        s = int(s)\n",
    "        s = s * 1000\n",
    "        return s\n",
    "    elif 'k' in s and '.' in s:\n",
    "        s = s[:-1]\n",
    "        s = float(s)\n",
    "        s = s * 1000\n",
    "        s = int(s)\n",
    "        return s\n",
    "        \n",
    "# Les différents cas à vérifier\n",
    "val = string_to_float('3409')\n",
    "print('3409 -->', val)\n",
    "\n",
    "val = string_to_float('12k')\n",
    "print('12k -->', val)\n",
    "\n",
    "val = string_to_float('12.4k')\n",
    "print('12.4k -->', val)\n",
    "\n",
    "val = string_to_float(12)\n",
    "print('12 -->', val)"
   ]
  },
  {
   "cell_type": "code",
   "execution_count": 27,
   "metadata": {},
   "outputs": [],
   "source": [
    "df_income = df_income.set_index('country')\n",
    "df_income.map(string_to_float)\n"
   ]
  }
 ],
 "metadata": {
  "extensions": {
   "jupyter_dashboards": {
    "activeView": "report_default",
    "version": 1,
    "views": {
     "grid_default": {
      "cellMargin": 10,
      "defaultCellHeight": 20,
      "maxColumns": 12,
      "name": "grid",
      "type": "grid"
     },
     "report_default": {
      "name": "report",
      "type": "report"
     }
    }
   }
  },
  "kernelspec": {
   "display_name": "Python 3 (ipykernel)",
   "language": "python",
   "name": "python3"
  },
  "language_info": {
   "codemirror_mode": {
    "name": "ipython",
    "version": 3
   },
   "file_extension": ".py",
   "mimetype": "text/x-python",
   "name": "python",
   "nbconvert_exporter": "python",
   "pygments_lexer": "ipython3",
   "version": "3.12.2"
  },
  "toc": {
   "base_numbering": 1,
   "nav_menu": {},
   "number_sections": true,
   "sideBar": true,
   "skip_h1_title": false,
   "title_cell": "Table of Contents",
   "title_sidebar": "Contents",
   "toc_cell": false,
   "toc_position": {
    "height": "calc(100% - 180px)",
    "left": "10px",
    "top": "150px",
    "width": "165px"
   },
   "toc_section_display": true,
   "toc_window_display": false
  },
  "varInspector": {
   "cols": {
    "lenName": 16,
    "lenType": 16,
    "lenVar": 40
   },
   "kernels_config": {
    "python": {
     "delete_cmd_postfix": "",
     "delete_cmd_prefix": "del ",
     "library": "var_list.py",
     "varRefreshCmd": "print(var_dic_list())"
    },
    "r": {
     "delete_cmd_postfix": ") ",
     "delete_cmd_prefix": "rm(",
     "library": "var_list.r",
     "varRefreshCmd": "cat(var_dic_list()) "
    }
   },
   "types_to_exclude": [
    "module",
    "function",
    "builtin_function_or_method",
    "instance",
    "_Feature"
   ],
   "window_display": false
  }
 },
 "nbformat": 4,
 "nbformat_minor": 4
}
